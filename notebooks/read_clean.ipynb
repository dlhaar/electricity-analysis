{
 "cells": [
  {
   "cell_type": "markdown",
   "id": "41ef3f4a-33ab-4d8c-91cd-4d6908d2b3de",
   "metadata": {},
   "source": [
    "# Read and clean the data"
   ]
  },
  {
   "cell_type": "code",
   "execution_count": 1,
   "id": "4764148e-086d-4b53-af3d-515a9fc3147d",
   "metadata": {},
   "outputs": [],
   "source": [
    "import pandas as pd\n",
    "import yaml"
   ]
  },
  {
   "cell_type": "code",
   "execution_count": 2,
   "id": "b73c2ff8-b700-419b-a804-471b7559abc3",
   "metadata": {},
   "outputs": [],
   "source": [
    "try:\n",
    "    with open(\"./../config.yaml\", 'r') as file:\n",
    "        config = yaml.safe_load(file)\n",
    "except Exception as e:\n",
    "    print('Error reading the config file')"
   ]
  },
  {
   "cell_type": "code",
   "execution_count": 3,
   "id": "e929c5f0-73e5-471e-9f43-843ae04c28d7",
   "metadata": {},
   "outputs": [],
   "source": [
    "data = pd.read_csv(config[\"data\"][\"undata_raw\"])"
   ]
  },
  {
   "cell_type": "code",
   "execution_count": 4,
   "id": "399aa5c4-c9f9-489a-ac81-e63ec54f8be8",
   "metadata": {},
   "outputs": [
    {
     "data": {
      "text/html": [
       "<div>\n",
       "<style scoped>\n",
       "    .dataframe tbody tr th:only-of-type {\n",
       "        vertical-align: middle;\n",
       "    }\n",
       "\n",
       "    .dataframe tbody tr th {\n",
       "        vertical-align: top;\n",
       "    }\n",
       "\n",
       "    .dataframe thead th {\n",
       "        text-align: right;\n",
       "    }\n",
       "</style>\n",
       "<table border=\"1\" class=\"dataframe\">\n",
       "  <thead>\n",
       "    <tr style=\"text-align: right;\">\n",
       "      <th></th>\n",
       "      <th>Country or Area</th>\n",
       "      <th>Commodity - Transaction</th>\n",
       "      <th>Year</th>\n",
       "      <th>Unit</th>\n",
       "      <th>Quantity</th>\n",
       "      <th>Quantity Footnotes</th>\n",
       "    </tr>\n",
       "  </thead>\n",
       "  <tbody>\n",
       "    <tr>\n",
       "      <th>0</th>\n",
       "      <td>Germany</td>\n",
       "      <td>Electricity - Gross production</td>\n",
       "      <td>2020.0</td>\n",
       "      <td>Kilowatt-hours, million</td>\n",
       "      <td>572666.0</td>\n",
       "      <td>NaN</td>\n",
       "    </tr>\n",
       "    <tr>\n",
       "      <th>1</th>\n",
       "      <td>Germany</td>\n",
       "      <td>Electricity - Gross production</td>\n",
       "      <td>2019.0</td>\n",
       "      <td>Kilowatt-hours, million</td>\n",
       "      <td>606917.0</td>\n",
       "      <td>NaN</td>\n",
       "    </tr>\n",
       "    <tr>\n",
       "      <th>2</th>\n",
       "      <td>Germany</td>\n",
       "      <td>Electricity - Gross production</td>\n",
       "      <td>2018.0</td>\n",
       "      <td>Kilowatt-hours, million</td>\n",
       "      <td>640468.0</td>\n",
       "      <td>NaN</td>\n",
       "    </tr>\n",
       "    <tr>\n",
       "      <th>3</th>\n",
       "      <td>Germany</td>\n",
       "      <td>Electricity - Gross production</td>\n",
       "      <td>2017.0</td>\n",
       "      <td>Kilowatt-hours, million</td>\n",
       "      <td>653723.0</td>\n",
       "      <td>NaN</td>\n",
       "    </tr>\n",
       "    <tr>\n",
       "      <th>4</th>\n",
       "      <td>Germany</td>\n",
       "      <td>From combustible fuels – Main activity</td>\n",
       "      <td>2020.0</td>\n",
       "      <td>Kilowatt-hours, million</td>\n",
       "      <td>250205.0</td>\n",
       "      <td>NaN</td>\n",
       "    </tr>\n",
       "  </tbody>\n",
       "</table>\n",
       "</div>"
      ],
      "text/plain": [
       "  Country or Area                 Commodity - Transaction    Year  \\\n",
       "0         Germany          Electricity - Gross production  2020.0   \n",
       "1         Germany          Electricity - Gross production  2019.0   \n",
       "2         Germany          Electricity - Gross production  2018.0   \n",
       "3         Germany          Electricity - Gross production  2017.0   \n",
       "4         Germany  From combustible fuels – Main activity  2020.0   \n",
       "\n",
       "                      Unit  Quantity  Quantity Footnotes  \n",
       "0  Kilowatt-hours, million  572666.0                 NaN  \n",
       "1  Kilowatt-hours, million  606917.0                 NaN  \n",
       "2  Kilowatt-hours, million  640468.0                 NaN  \n",
       "3  Kilowatt-hours, million  653723.0                 NaN  \n",
       "4  Kilowatt-hours, million  250205.0                 NaN  "
      ]
     },
     "execution_count": 4,
     "metadata": {},
     "output_type": "execute_result"
    }
   ],
   "source": [
    "data.head()"
   ]
  },
  {
   "cell_type": "code",
   "execution_count": 5,
   "id": "712bfe7c-089c-4310-8c28-91392d05948d",
   "metadata": {},
   "outputs": [
    {
     "name": "stdout",
     "output_type": "stream",
     "text": [
      "<class 'pandas.core.frame.DataFrame'>\n",
      "RangeIndex: 249 entries, 0 to 248\n",
      "Data columns (total 6 columns):\n",
      " #   Column                   Non-Null Count  Dtype  \n",
      "---  ------                   --------------  -----  \n",
      " 0   Country or Area          249 non-null    object \n",
      " 1   Commodity - Transaction  249 non-null    object \n",
      " 2   Year                     247 non-null    float64\n",
      " 3   Unit                     247 non-null    object \n",
      " 4   Quantity                 247 non-null    float64\n",
      " 5   Quantity Footnotes       0 non-null      float64\n",
      "dtypes: float64(3), object(3)\n",
      "memory usage: 11.8+ KB\n"
     ]
    }
   ],
   "source": [
    "data.info()"
   ]
  },
  {
   "cell_type": "markdown",
   "id": "20da2162-52bf-483f-8226-7f7c7d3d51fa",
   "metadata": {},
   "source": [
    "## Cleaning column names"
   ]
  },
  {
   "cell_type": "code",
   "execution_count": 6,
   "id": "3195c546-0132-4d39-baa9-00b63675daef",
   "metadata": {},
   "outputs": [],
   "source": [
    "def clean_cols(df:pd.DataFrame)->pd.DataFrame:\n",
    "    df_temp = df.copy()\n",
    "\n",
    "    df_temp.columns = df_temp.columns.str.lower().str.replace(' - ', '_').str.replace(' ', '_')\n",
    "\n",
    "    return df_temp\n",
    "        "
   ]
  },
  {
   "cell_type": "code",
   "execution_count": 7,
   "id": "8c99e4a0-70cb-4eab-9ca7-88c44648f768",
   "metadata": {},
   "outputs": [],
   "source": [
    "data = clean_cols(data)"
   ]
  },
  {
   "cell_type": "markdown",
   "id": "9da08b4e-addc-45b5-96bb-2a4717dc7d53",
   "metadata": {},
   "source": [
    "## Removing `quantity_footnotes` column\n",
    "This column has no values, it can be removed"
   ]
  },
  {
   "cell_type": "code",
   "execution_count": 8,
   "id": "7e7e558a-134f-47e4-a400-807c434c7007",
   "metadata": {},
   "outputs": [
    {
     "data": {
      "text/html": [
       "<div>\n",
       "<style scoped>\n",
       "    .dataframe tbody tr th:only-of-type {\n",
       "        vertical-align: middle;\n",
       "    }\n",
       "\n",
       "    .dataframe tbody tr th {\n",
       "        vertical-align: top;\n",
       "    }\n",
       "\n",
       "    .dataframe thead th {\n",
       "        text-align: right;\n",
       "    }\n",
       "</style>\n",
       "<table border=\"1\" class=\"dataframe\">\n",
       "  <thead>\n",
       "    <tr style=\"text-align: right;\">\n",
       "      <th></th>\n",
       "      <th>country_or_area</th>\n",
       "      <th>commodity_transaction</th>\n",
       "      <th>year</th>\n",
       "      <th>unit</th>\n",
       "      <th>quantity</th>\n",
       "    </tr>\n",
       "  </thead>\n",
       "  <tbody>\n",
       "    <tr>\n",
       "      <th>0</th>\n",
       "      <td>Germany</td>\n",
       "      <td>Electricity - Gross production</td>\n",
       "      <td>2020.0</td>\n",
       "      <td>Kilowatt-hours, million</td>\n",
       "      <td>572666.0</td>\n",
       "    </tr>\n",
       "    <tr>\n",
       "      <th>1</th>\n",
       "      <td>Germany</td>\n",
       "      <td>Electricity - Gross production</td>\n",
       "      <td>2019.0</td>\n",
       "      <td>Kilowatt-hours, million</td>\n",
       "      <td>606917.0</td>\n",
       "    </tr>\n",
       "    <tr>\n",
       "      <th>2</th>\n",
       "      <td>Germany</td>\n",
       "      <td>Electricity - Gross production</td>\n",
       "      <td>2018.0</td>\n",
       "      <td>Kilowatt-hours, million</td>\n",
       "      <td>640468.0</td>\n",
       "    </tr>\n",
       "    <tr>\n",
       "      <th>3</th>\n",
       "      <td>Germany</td>\n",
       "      <td>Electricity - Gross production</td>\n",
       "      <td>2017.0</td>\n",
       "      <td>Kilowatt-hours, million</td>\n",
       "      <td>653723.0</td>\n",
       "    </tr>\n",
       "    <tr>\n",
       "      <th>4</th>\n",
       "      <td>Germany</td>\n",
       "      <td>From combustible fuels – Main activity</td>\n",
       "      <td>2020.0</td>\n",
       "      <td>Kilowatt-hours, million</td>\n",
       "      <td>250205.0</td>\n",
       "    </tr>\n",
       "  </tbody>\n",
       "</table>\n",
       "</div>"
      ],
      "text/plain": [
       "  country_or_area                   commodity_transaction    year  \\\n",
       "0         Germany          Electricity - Gross production  2020.0   \n",
       "1         Germany          Electricity - Gross production  2019.0   \n",
       "2         Germany          Electricity - Gross production  2018.0   \n",
       "3         Germany          Electricity - Gross production  2017.0   \n",
       "4         Germany  From combustible fuels – Main activity  2020.0   \n",
       "\n",
       "                      unit  quantity  \n",
       "0  Kilowatt-hours, million  572666.0  \n",
       "1  Kilowatt-hours, million  606917.0  \n",
       "2  Kilowatt-hours, million  640468.0  \n",
       "3  Kilowatt-hours, million  653723.0  \n",
       "4  Kilowatt-hours, million  250205.0  "
      ]
     },
     "execution_count": 8,
     "metadata": {},
     "output_type": "execute_result"
    }
   ],
   "source": [
    "data.drop('quantity_footnotes', axis=1, inplace=True)\n",
    "data.head()"
   ]
  },
  {
   "cell_type": "markdown",
   "id": "e48aafcc-8a6d-45a0-8ca1-e20d06f47011",
   "metadata": {},
   "source": [
    "## Removing `unit` column\n",
    "`quantity` column name can be renamed to include the unit"
   ]
  },
  {
   "cell_type": "code",
   "execution_count": 9,
   "id": "45062f1e-b959-4310-b084-b94ccd76da72",
   "metadata": {},
   "outputs": [],
   "source": [
    "data.rename(columns = {'quantity':'quantity_GWh'}, inplace=True)"
   ]
  },
  {
   "cell_type": "code",
   "execution_count": 10,
   "id": "4d77fe92-5d9e-4d1e-9950-4dfb20eada14",
   "metadata": {},
   "outputs": [],
   "source": [
    "data.drop('unit', axis=1, inplace=True)"
   ]
  },
  {
   "cell_type": "code",
   "execution_count": 11,
   "id": "01dfe3cc-3c34-4b9b-bba3-bd699ea3c3a2",
   "metadata": {},
   "outputs": [
    {
     "data": {
      "text/plain": [
       "Index(['country_or_area', 'commodity_transaction', 'year', 'quantity_GWh'], dtype='object')"
      ]
     },
     "execution_count": 11,
     "metadata": {},
     "output_type": "execute_result"
    }
   ],
   "source": [
    "data.columns"
   ]
  },
  {
   "cell_type": "markdown",
   "id": "ffae4748-f1b1-427a-a6fd-eb66aba2a3f0",
   "metadata": {},
   "source": [
    "## Dealing with null values"
   ]
  },
  {
   "cell_type": "code",
   "execution_count": 12,
   "id": "6dd609da-08ba-4e32-8899-6c32f592a0db",
   "metadata": {},
   "outputs": [
    {
     "data": {
      "text/plain": [
       "country_or_area          0\n",
       "commodity_transaction    0\n",
       "year                     2\n",
       "quantity_GWh             2\n",
       "dtype: int64"
      ]
     },
     "execution_count": 12,
     "metadata": {},
     "output_type": "execute_result"
    }
   ],
   "source": [
    "data.isnull().sum()"
   ]
  },
  {
   "cell_type": "code",
   "execution_count": 13,
   "id": "e26b4739-ffcf-4fad-8bad-ed600caa3d24",
   "metadata": {},
   "outputs": [
    {
     "data": {
      "text/html": [
       "<div>\n",
       "<style scoped>\n",
       "    .dataframe tbody tr th:only-of-type {\n",
       "        vertical-align: middle;\n",
       "    }\n",
       "\n",
       "    .dataframe tbody tr th {\n",
       "        vertical-align: top;\n",
       "    }\n",
       "\n",
       "    .dataframe thead th {\n",
       "        text-align: right;\n",
       "    }\n",
       "</style>\n",
       "<table border=\"1\" class=\"dataframe\">\n",
       "  <thead>\n",
       "    <tr style=\"text-align: right;\">\n",
       "      <th></th>\n",
       "      <th>country_or_area</th>\n",
       "      <th>commodity_transaction</th>\n",
       "      <th>year</th>\n",
       "      <th>quantity_GWh</th>\n",
       "    </tr>\n",
       "  </thead>\n",
       "  <tbody>\n",
       "    <tr>\n",
       "      <th>247</th>\n",
       "      <td>fnSeqID</td>\n",
       "      <td>Footnote</td>\n",
       "      <td>NaN</td>\n",
       "      <td>NaN</td>\n",
       "    </tr>\n",
       "    <tr>\n",
       "      <th>248</th>\n",
       "      <td>1</td>\n",
       "      <td>Estimate</td>\n",
       "      <td>NaN</td>\n",
       "      <td>NaN</td>\n",
       "    </tr>\n",
       "  </tbody>\n",
       "</table>\n",
       "</div>"
      ],
      "text/plain": [
       "    country_or_area commodity_transaction  year  quantity_GWh\n",
       "247         fnSeqID              Footnote   NaN           NaN\n",
       "248               1              Estimate   NaN           NaN"
      ]
     },
     "execution_count": 13,
     "metadata": {},
     "output_type": "execute_result"
    }
   ],
   "source": [
    "data[data.isna().any(axis=1)]"
   ]
  },
  {
   "cell_type": "markdown",
   "id": "124cc5d8-cc01-463d-a6b8-d40b27ceca9a",
   "metadata": {},
   "source": [
    "The rows with NaNs are dummy rows and can be removed from the dataset."
   ]
  },
  {
   "cell_type": "code",
   "execution_count": 14,
   "id": "28263c2b-e4c3-47a8-a1ff-127e712ea383",
   "metadata": {},
   "outputs": [],
   "source": [
    "data = data[data['country_or_area']=='Germany']"
   ]
  },
  {
   "cell_type": "code",
   "execution_count": 15,
   "id": "ca11adea-b93f-46ba-9459-6315724d9f60",
   "metadata": {},
   "outputs": [
    {
     "data": {
      "text/plain": [
       "country_or_area          0\n",
       "commodity_transaction    0\n",
       "year                     0\n",
       "quantity_GWh             0\n",
       "dtype: int64"
      ]
     },
     "execution_count": 15,
     "metadata": {},
     "output_type": "execute_result"
    }
   ],
   "source": [
    "data.isnull().sum()"
   ]
  },
  {
   "cell_type": "code",
   "execution_count": 16,
   "id": "a3d904cf-25de-4b13-9de2-3d205328a68a",
   "metadata": {},
   "outputs": [
    {
     "data": {
      "text/plain": [
       "array(['Germany'], dtype=object)"
      ]
     },
     "execution_count": 16,
     "metadata": {},
     "output_type": "execute_result"
    }
   ],
   "source": [
    "data['country_or_area'].unique()"
   ]
  },
  {
   "cell_type": "markdown",
   "id": "975252aa-f92d-48e7-9442-167327b63e9a",
   "metadata": {},
   "source": [
    "## Setting data types\n",
    "`year` should be an integer"
   ]
  },
  {
   "cell_type": "code",
   "execution_count": 17,
   "id": "dded63e5-c64c-4696-a007-a630a0a38398",
   "metadata": {},
   "outputs": [],
   "source": [
    "data['year'] = data['year'].astype('int')"
   ]
  },
  {
   "cell_type": "code",
   "execution_count": 18,
   "id": "0a56b734-18e8-41b2-ae0b-2d20415470ca",
   "metadata": {},
   "outputs": [
    {
     "name": "stdout",
     "output_type": "stream",
     "text": [
      "<class 'pandas.core.frame.DataFrame'>\n",
      "Index: 247 entries, 0 to 246\n",
      "Data columns (total 4 columns):\n",
      " #   Column                 Non-Null Count  Dtype  \n",
      "---  ------                 --------------  -----  \n",
      " 0   country_or_area        247 non-null    object \n",
      " 1   commodity_transaction  247 non-null    object \n",
      " 2   year                   247 non-null    int64  \n",
      " 3   quantity_GWh           247 non-null    float64\n",
      "dtypes: float64(1), int64(1), object(2)\n",
      "memory usage: 9.6+ KB\n"
     ]
    }
   ],
   "source": [
    "data.info()"
   ]
  },
  {
   "cell_type": "markdown",
   "id": "25f469e9-24d0-4174-9cd1-86aea3c8abf4",
   "metadata": {},
   "source": [
    "## Saving cleaned data\n"
   ]
  },
  {
   "cell_type": "code",
   "execution_count": 19,
   "id": "9c8befc8-1109-4841-9c19-9306c92c5d14",
   "metadata": {},
   "outputs": [],
   "source": [
    "data.to_csv('../data/cleaned/undata_cleaned.csv', index=False)"
   ]
  },
  {
   "cell_type": "code",
   "execution_count": null,
   "id": "a3687c2b-729b-4d2f-b711-042eca436738",
   "metadata": {},
   "outputs": [],
   "source": []
  }
 ],
 "metadata": {
  "kernelspec": {
   "display_name": "venv",
   "language": "python",
   "name": "venv"
  },
  "language_info": {
   "codemirror_mode": {
    "name": "ipython",
    "version": 3
   },
   "file_extension": ".py",
   "mimetype": "text/x-python",
   "name": "python",
   "nbconvert_exporter": "python",
   "pygments_lexer": "ipython3",
   "version": "3.11.4"
  }
 },
 "nbformat": 4,
 "nbformat_minor": 5
}
